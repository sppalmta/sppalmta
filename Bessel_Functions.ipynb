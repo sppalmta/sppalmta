{
  "nbformat": 4,
  "nbformat_minor": 0,
  "metadata": {
    "colab": {
      "provenance": [],
      "authorship_tag": "ABX9TyMARDQVzf/FFwLuGW8rqfGl",
      "include_colab_link": true
    },
    "kernelspec": {
      "name": "python3",
      "display_name": "Python 3"
    },
    "language_info": {
      "name": "python"
    }
  },
  "cells": [
    {
      "cell_type": "markdown",
      "metadata": {
        "id": "view-in-github",
        "colab_type": "text"
      },
      "source": [
        "<a href=\"https://colab.research.google.com/github/sppalmta/sppalmta/blob/main/Bessel_Functions.ipynb\" target=\"_parent\"><img src=\"https://colab.research.google.com/assets/colab-badge.svg\" alt=\"Open In Colab\"/></a>"
      ]
    },
    {
      "cell_type": "markdown",
      "source": [
        "How to Evalute Bessel Functions in Python\n",
        "\n",
        "NE301 - October 2024\n",
        "\n",
        "See: https://docs.scipy.org/doc/scipy/reference/special.html\n",
        "\n"
      ],
      "metadata": {
        "id": "Mx0C36iSK1Gd"
      }
    },
    {
      "cell_type": "code",
      "source": [
        "import scipy.special as sc\n",
        "\n",
        "# Find the first zero of the J0 function\n",
        "\n",
        "z = sc.jn_zeros(0,1)\n",
        "\n",
        "print ('first zero of J0 z=', z)\n",
        "\n",
        "# evaluate J0 and J1 at this value\n",
        "\n",
        "jz0 = sc.j0(z)\n",
        "jz1 = sc.j1(z)\n",
        "\n",
        "print ('J0(z)=',jz0)\n",
        "print ('J1(z)=',jz1)\n",
        "\n",
        "\n"
      ],
      "metadata": {
        "colab": {
          "base_uri": "https://localhost:8080/"
        },
        "id": "hRUW7cS6LEf8",
        "outputId": "e7137403-b5c9-477e-cd95-eac7db0d7f78"
      },
      "execution_count": 9,
      "outputs": [
        {
          "output_type": "stream",
          "name": "stdout",
          "text": [
            "first zero of J0 z= [2.40482556]\n",
            "J0(z)= [9.58688255e-17]\n",
            "J1(z)= [0.5191475]\n"
          ]
        }
      ]
    }
  ]
}